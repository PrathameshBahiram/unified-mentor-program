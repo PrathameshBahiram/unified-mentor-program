{
 "cells": [
  {
   "cell_type": "markdown",
   "id": "9e6ddbd3",
   "metadata": {},
   "source": [
    "# Detect Heart Disease using patient data."
   ]
  },
  {
   "cell_type": "code",
   "execution_count": 3,
   "id": "70b76d85",
   "metadata": {},
   "outputs": [],
   "source": [
    "import pandas as pd\n",
    "import numpy as np\n",
    "import matplotlib.pyplot as plt\n",
    "import seaborn as sns\n",
    "from sklearn.model_selection import train_test_split\n",
    "from sklearn.preprocessing import StandardScaler, OneHotEncoder\n",
    "from sklearn.compose import ColumnTransformer\n",
    "from sklearn.pipeline import Pipeline\n",
    "from sklearn.ensemble import RandomForestClassifier\n",
    "from sklearn.linear_model import LogisticRegression\n",
    "from sklearn.metrics import accuracy_score, classification_report, confusion_matrix, roc_auc_score, roc_curve"
   ]
  },
  {
   "cell_type": "code",
   "execution_count": 4,
   "id": "259758f1",
   "metadata": {},
   "outputs": [],
   "source": [
    "# Loading the dataset\n",
    "df = pd.read_csv('dataset.csv')"
   ]
  },
  {
   "cell_type": "code",
   "execution_count": 6,
   "id": "446bf981",
   "metadata": {},
   "outputs": [
    {
     "name": "stdout",
     "output_type": "stream",
     "text": [
      "\n",
      "Dataset Head:\n",
      "    age  sex  chest pain type  resting bp s  cholesterol  fasting blood sugar  \\\n",
      "0   40    1                2           140          289                    0   \n",
      "1   49    0                3           160          180                    0   \n",
      "2   37    1                2           130          283                    0   \n",
      "3   48    0                4           138          214                    0   \n",
      "4   54    1                3           150          195                    0   \n",
      "\n",
      "   resting ecg  max heart rate  exercise angina  oldpeak  ST slope  target  \n",
      "0            0             172                0      0.0         1       0  \n",
      "1            0             156                0      1.0         2       1  \n",
      "2            1              98                0      0.0         1       0  \n",
      "3            0             108                1      1.5         2       1  \n",
      "4            0             122                0      0.0         1       0  \n",
      "\n",
      "\n",
      "Data Info:\n",
      "<class 'pandas.core.frame.DataFrame'>\n",
      "RangeIndex: 1190 entries, 0 to 1189\n",
      "Data columns (total 12 columns):\n",
      " #   Column               Non-Null Count  Dtype  \n",
      "---  ------               --------------  -----  \n",
      " 0   age                  1190 non-null   int64  \n",
      " 1   sex                  1190 non-null   int64  \n",
      " 2   chest pain type      1190 non-null   int64  \n",
      " 3   resting bp s         1190 non-null   int64  \n",
      " 4   cholesterol          1190 non-null   int64  \n",
      " 5   fasting blood sugar  1190 non-null   int64  \n",
      " 6   resting ecg          1190 non-null   int64  \n",
      " 7   max heart rate       1190 non-null   int64  \n",
      " 8   exercise angina      1190 non-null   int64  \n",
      " 9   oldpeak              1190 non-null   float64\n",
      " 10  ST slope             1190 non-null   int64  \n",
      " 11  target               1190 non-null   int64  \n",
      "dtypes: float64(1), int64(11)\n",
      "memory usage: 111.7 KB\n",
      "None\n",
      "\n",
      "\n",
      "Data Description:\n",
      "                age          sex  chest pain type  resting bp s  cholesterol  \\\n",
      "count  1190.000000  1190.000000      1190.000000   1190.000000  1190.000000   \n",
      "mean     53.720168     0.763866         3.232773    132.153782   210.363866   \n",
      "std       9.358203     0.424884         0.935480     18.368823   101.420489   \n",
      "min      28.000000     0.000000         1.000000      0.000000     0.000000   \n",
      "25%      47.000000     1.000000         3.000000    120.000000   188.000000   \n",
      "50%      54.000000     1.000000         4.000000    130.000000   229.000000   \n",
      "75%      60.000000     1.000000         4.000000    140.000000   269.750000   \n",
      "max      77.000000     1.000000         4.000000    200.000000   603.000000   \n",
      "\n",
      "       fasting blood sugar  resting ecg  max heart rate  exercise angina  \\\n",
      "count          1190.000000  1190.000000     1190.000000      1190.000000   \n",
      "mean              0.213445     0.698319      139.732773         0.387395   \n",
      "std               0.409912     0.870359       25.517636         0.487360   \n",
      "min               0.000000     0.000000       60.000000         0.000000   \n",
      "25%               0.000000     0.000000      121.000000         0.000000   \n",
      "50%               0.000000     0.000000      140.500000         0.000000   \n",
      "75%               0.000000     2.000000      160.000000         1.000000   \n",
      "max               1.000000     2.000000      202.000000         1.000000   \n",
      "\n",
      "           oldpeak     ST slope       target  \n",
      "count  1190.000000  1190.000000  1190.000000  \n",
      "mean      0.922773     1.624370     0.528571  \n",
      "std       1.086337     0.610459     0.499393  \n",
      "min      -2.600000     0.000000     0.000000  \n",
      "25%       0.000000     1.000000     0.000000  \n",
      "50%       0.600000     2.000000     1.000000  \n",
      "75%       1.600000     2.000000     1.000000  \n",
      "max       6.200000     3.000000     1.000000  \n",
      "\n",
      "\n",
      "Missing values per column:\n",
      " age                    0\n",
      "sex                    0\n",
      "chest pain type        0\n",
      "resting bp s           0\n",
      "cholesterol            0\n",
      "fasting blood sugar    0\n",
      "resting ecg            0\n",
      "max heart rate         0\n",
      "exercise angina        0\n",
      "oldpeak                0\n",
      "ST slope               0\n",
      "target                 0\n",
      "dtype: int64\n"
     ]
    }
   ],
   "source": [
    "# Data Exploration\n",
    "\n",
    "print(\"\\nDataset Head:\\n\", df.head())\n",
    "\n",
    "print(\"\\n\\nData Info:\")\n",
    "print(df.info())\n",
    "\n",
    "print(\"\\n\\nData Description:\\n\", df.describe())\n",
    "\n",
    "print(\"\\n\\nMissing values per column:\\n\", df.isnull().sum())"
   ]
  },
  {
   "cell_type": "code",
   "execution_count": 7,
   "id": "4164c031",
   "metadata": {},
   "outputs": [],
   "source": [
    "# Separation of numeric and categorical features\n",
    "numeric_features = ['age', 'resting bp s', 'cholesterol', 'max heart rate', 'oldpeak']\n",
    "categorical_features = ['sex', 'chest pain type', 'fasting blood sugar', 'resting ecg', 'exercise angina', 'ST slope']"
   ]
  },
  {
   "cell_type": "code",
   "execution_count": 8,
   "id": "4e9355b5",
   "metadata": {},
   "outputs": [],
   "source": [
    "# Separate target and features\n",
    "y = df['target']\n",
    "X = df.drop('target', axis=1)"
   ]
  },
  {
   "cell_type": "code",
   "execution_count": 9,
   "id": "dadea235",
   "metadata": {},
   "outputs": [],
   "source": [
    "# Transformations for numeric features\n",
    "numeric_transformer = StandardScaler()\n",
    "\n",
    "# Transformations for categorical features\n",
    "categorical_transformer = OneHotEncoder(drop='first')\n",
    "\n",
    "preprocessor = ColumnTransformer(\n",
    "    transformers=[\n",
    "        ('num', numeric_transformer, numeric_features),\n",
    "        ('cat', categorical_transformer, categorical_features)\n",
    "    ])"
   ]
  },
  {
   "cell_type": "code",
   "execution_count": 10,
   "id": "05287568",
   "metadata": {},
   "outputs": [],
   "source": [
    "# Spliting of data into training and testing sets \n",
    "X_train, X_test, y_train, y_test = train_test_split(X, y, test_size=0.2, random_state=42)"
   ]
  },
  {
   "cell_type": "code",
   "execution_count": 12,
   "id": "e9fc167d",
   "metadata": {},
   "outputs": [],
   "source": [
    "#applying a Random Forest classifier\n",
    "model_pipeline = Pipeline(steps=[\n",
    "    ('preprocessor', preprocessor),\n",
    "    ('classifier', RandomForestClassifier(random_state=42))\n",
    "])\n",
    "\n",
    "# Model training\n",
    "model_pipeline.fit(X_train, y_train)\n",
    "\n",
    "# Making predictions\n",
    "y_pred = model_pipeline.predict(X_test)"
   ]
  },
  {
   "cell_type": "code",
   "execution_count": 13,
   "id": "46526aa8",
   "metadata": {},
   "outputs": [
    {
     "name": "stdout",
     "output_type": "stream",
     "text": [
      "Accuracy: 94.54%\n"
     ]
    }
   ],
   "source": [
    "# Evaluating the model's performance \n",
    "accuracy = accuracy_score(y_test, y_pred)\n",
    "print(f\"Accuracy: {accuracy * 100:.2f}%\")"
   ]
  },
  {
   "cell_type": "code",
   "execution_count": 14,
   "id": "8bf3e649",
   "metadata": {},
   "outputs": [
    {
     "name": "stdout",
     "output_type": "stream",
     "text": [
      "\n",
      "Classification Report:\n",
      "              precision    recall  f1-score   support\n",
      "\n",
      "           0       0.94      0.93      0.94       107\n",
      "           1       0.95      0.95      0.95       131\n",
      "\n",
      "    accuracy                           0.95       238\n",
      "   macro avg       0.95      0.94      0.94       238\n",
      "weighted avg       0.95      0.95      0.95       238\n",
      "\n"
     ]
    }
   ],
   "source": [
    "# Classification report\n",
    "print(\"\\nClassification Report:\")\n",
    "print(classification_report(y_test, y_pred))"
   ]
  },
  {
   "cell_type": "code",
   "execution_count": 16,
   "id": "a14ca4eb",
   "metadata": {},
   "outputs": [
    {
     "data": {
      "image/png": "[encoded data removed]",
      "text/plain": [
       "<Figure size 432x288 with 2 Axes>"
      ]
     },
     "metadata": {
      "needs_background": "light"
     },
     "output_type": "display_data"
    }
   ],
   "source": [
    "# Confusion matrix\n",
    "conf_matrix = confusion_matrix(y_test, y_pred)\n",
    "\n",
    "sns.heatmap(conf_matrix, annot=True, fmt=\"d\", cmap=\"Blues\")\n",
    "plt.title(\"Confusion Matrix\")\n",
    "plt.xlabel(\"Predicted Label\")\n",
    "plt.ylabel(\"True Label\")\n",
    "plt.show()"
   ]
  },
  {
   "cell_type": "code",
   "execution_count": 17,
   "id": "6f96ece1",
   "metadata": {},
   "outputs": [
    {
     "name": "stdout",
     "output_type": "stream",
     "text": [
      "ROC-AUC Score: 0.97\n"
     ]
    }
   ],
   "source": [
    "# Calculating ROC-AUC \n",
    "y_pred_proba = model_pipeline.predict_proba(X_test)[:, 1]\n",
    "roc_auc = roc_auc_score(y_test, y_pred_proba)\n",
    "print(f\"ROC-AUC Score: {roc_auc:.2f}\")"
   ]
  },
  {
   "cell_type": "code",
   "execution_count": 18,
   "id": "c32d8fdf",
   "metadata": {},
   "outputs": [
    {
     "data": {
      "image/png": "[encoded data removed]",
      "text/plain": [
       "<Figure size 432x288 with 1 Axes>"
      ]
     },
     "metadata": {
      "needs_background": "light"
     },
     "output_type": "display_data"
    }
   ],
   "source": [
    "#Plotting ROC Curve\n",
    "fpr, tpr, _ = roc_curve(y_test, y_pred_proba)\n",
    "plt.plot(fpr, tpr, label=f\"ROC curve (area = {roc_auc:.2f})\")\n",
    "plt.xlabel(\"False Positive Rate\")\n",
    "plt.ylabel(\"True Positive Rate\")\n",
    "plt.title(\"ROC Curve\")\n",
    "plt.legend()\n",
    "plt.show()"
   ]
  },
  {
   "cell_type": "code",
   "execution_count": 19,
   "id": "99b99c41",
   "metadata": {},
   "outputs": [
    {
     "data": {
      "image/png": "[encoded data removed]",
      "text/plain": [
       "<Figure size 720x576 with 1 Axes>"
      ]
     },
     "metadata": {
      "needs_background": "light"
     },
     "output_type": "display_data"
    }
   ],
   "source": [
    "# Feature Importance \n",
    "feature_importances = model_pipeline.named_steps['classifier'].feature_importances_\n",
    "\n",
    "feature_names = numeric_features + list(model_pipeline.named_steps['preprocessor'].transformers_[1][1].get_feature_names_out())\n",
    "\n",
    "feature_imp = pd.Series(feature_importances, index=feature_names).sort_values(ascending=False)\n",
    "\n",
    "plt.figure(figsize=(10, 8))\n",
    "sns.barplot(x=feature_imp, y=feature_imp.index)\n",
    "plt.title(\"Feature Importances\")\n",
    "plt.show()\n"
   ]
  },
  {
   "cell_type": "code",
   "execution_count": null,
   "id": "2e040cde",
   "metadata": {},
   "outputs": [],
   "source": []
  }
 ],
 "metadata": {
  "kernelspec": {
   "display_name": "Python 3 (ipykernel)",
   "language": "python",
   "name": "python3"
  },
  "language_info": {
   "codemirror_mode": {
    "name": "ipython",
    "version": 3
   },
   "file_extension": ".py",
   "mimetype": "text/x-python",
   "name": "python",
   "nbconvert_exporter": "python",
   "pygments_lexer": "ipython3",
   "version": "3.9.12"
  }
 },
 "nbformat": 4,
 "nbformat_minor": 5
}
